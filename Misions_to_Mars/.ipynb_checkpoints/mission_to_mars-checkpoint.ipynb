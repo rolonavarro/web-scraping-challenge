{
 "cells": [
  {
   "cell_type": "code",
   "execution_count": 1,
   "metadata": {},
   "outputs": [],
   "source": [
    "# Dependencies \n",
    "import pandas as pd\n",
    "\n",
    "from splinter import Browser\n",
    "from bs4 import BeautifulSoup as bs\n",
    "import requests"
   ]
  },
  {
   "cell_type": "markdown",
   "metadata": {},
   "source": [
    "# NASA Mars News\n",
    "* Scrape the NASA Mars News Site and collect the latest News Title and Paragraph Text. Assign the text to variables that you can reference later."
   ]
  },
  {
   "cell_type": "code",
   "execution_count": 2,
   "metadata": {},
   "outputs": [],
   "source": [
    "# NASA news url\n",
    "nasa_url = \"https://mars.nasa.gov/news/?page=0&per_page=40&order=publish_date+desc%2Ccreated_at+desc&search=&category=19%2C165%2C184%2C204&blank_scope=Latest\""
   ]
  },
  {
   "cell_type": "code",
   "execution_count": 3,
   "metadata": {},
   "outputs": [],
   "source": [
    "# Retrieve page with the requests module\n",
    "response = requests.get(nasa_url)"
   ]
  },
  {
   "cell_type": "code",
   "execution_count": 4,
   "metadata": {},
   "outputs": [],
   "source": [
    "# Create BeautifulSoup object; parse with 'lxml'\n",
    "soup = bs(response.text,'lxml')"
   ]
  },
  {
   "cell_type": "code",
   "execution_count": 6,
   "metadata": {},
   "outputs": [
    {
     "name": "stdout",
     "output_type": "stream",
     "text": [
      "<div class=\"grid_layout\">\n",
      " <header>\n",
      "  <h2 class=\"module_title\">\n",
      "   You Might Also Like\n",
      "  </h2>\n",
      " </header>\n",
      " <section>\n",
      "  <script>\n",
      "   $(document).ready(function(){\n",
      "    $(\".features\").slick({\n",
      "      dots: false,\n",
      "      infinite: true,\n",
      "      speed: 300,\n",
      "      slide: '.features .slide',\n",
      "      slidesToShow: 3,\n",
      "      slidesToScroll: 3,\n",
      "      lazyLoad: 'ondemand',\n",
      "      centerMode: false,\n",
      "      arrows: true,\n",
      "      appendArrows: '.features .slick-nav',\n",
      "      appendDots: \".features .slick-nav\",\n",
      "      responsive: [{\"breakpoint\":953,\"settings\":{\"slidesToShow\":2,\"slidesToScroll\":2,\"centerMode\":false}},{\"breakpoint\":480,\"settings\":{\"slidesToShow\":1,\"slidesToScroll\":1,\"centerMode\":true,\"arrows\":false,\"centerPadding\":\"25px\"}}]\n",
      "    });\n",
      "  });\n",
      "  </script>\n",
      "  <div class=\"features\">\n",
      "   <div class=\"slide\">\n",
      "    <div class=\"image_and_description_container\">\n",
      "     <a href=\"/news/8659/alabama-high-school-student-names-nasas-mars-helicopter/\">\n",
      "      <div class=\"rollover_description\">\n",
      "       <div class=\"rollover_description_inner\">\n",
      "        Vaneeza Rupani's essay was chosen as the name for the small spacecraft, which will mark NASA's first attempt at powered flight on another planet.\n",
      "       </div>\n",
      "       <div class=\"overlay_arrow\">\n",
      "        <img alt=\"More\" src=\"/assets/overlay-arrow.png\"/>\n",
      "       </div>\n",
      "      </div>\n",
      "      <img alt=\"Alabama High School Student Names NASA's Mars Helicopter\" class=\"img-lazy\" data-lazy=\"/system/news_items/list_view_images/8659_1-PIA23883-MAIN-320x240.jpg\" src=\"/assets/loading_320x240.png\"/>\n",
      "     </a>\n",
      "    </div>\n",
      "    <div class=\"content_title\">\n",
      "     <a href=\"/news/8659/alabama-high-school-student-names-nasas-mars-helicopter/\">\n",
      "      Alabama High School Student Names NASA's Mars Helicopter\n",
      "     </a>\n",
      "    </div>\n",
      "   </div>\n",
      "   <div class=\"slide\">\n",
      "    <div class=\"image_and_description_container\">\n",
      "     <a href=\"/news/8645/mars-helicopter-attached-to-nasas-perseverance-rover/\">\n",
      "      <div class=\"rollover_description\">\n",
      "       <div class=\"rollover_description_inner\">\n",
      "        The team also fueled the rover's sky crane to get ready for this summer's history-making launch.\n",
      "       </div>\n",
      "       <div class=\"overlay_arrow\">\n",
      "        <img alt=\"More\" src=\"/assets/overlay-arrow.png\"/>\n",
      "       </div>\n",
      "      </div>\n",
      "      <img alt=\"Mars Helicopter Attached to NASA's Perseverance Rover\" class=\"img-lazy\" data-lazy=\"/system/news_items/list_view_images/8645_PIA23824-RoverWithHelicopter-32x24.jpg\" src=\"/assets/loading_320x240.png\"/>\n",
      "     </a>\n",
      "    </div>\n",
      "    <div class=\"content_title\">\n",
      "     <a href=\"/news/8645/mars-helicopter-attached-to-nasas-perseverance-rover/\">\n",
      "      Mars Helicopter Attached to NASA's Perseverance Rover\n",
      "     </a>\n",
      "    </div>\n",
      "   </div>\n",
      "   <div class=\"slide\">\n",
      "    <div class=\"image_and_description_container\">\n",
      "     <a href=\"/news/8641/nasas-perseverance-mars-rover-gets-its-wheels-and-air-brakes/\">\n",
      "      <div class=\"rollover_description\">\n",
      "       <div class=\"rollover_description_inner\">\n",
      "        After the rover was shipped from JPL to Kennedy Space Center, the team is getting closer to finalizing the spacecraft for launch later this summer.\n",
      "       </div>\n",
      "       <div class=\"overlay_arrow\">\n",
      "        <img alt=\"More\" src=\"/assets/overlay-arrow.png\"/>\n",
      "       </div>\n",
      "      </div>\n",
      "      <img alt=\"NASA's Perseverance Mars Rover Gets Its Wheels and Air Brakes\" class=\"img-lazy\" data-lazy=\"/system/news_items/list_view_images/8641_PIA-23821-320x240.jpg\" src=\"/assets/loading_320x240.png\"/>\n",
      "     </a>\n",
      "    </div>\n",
      "    <div class=\"content_title\">\n",
      "     <a href=\"/news/8641/nasas-perseverance-mars-rover-gets-its-wheels-and-air-brakes/\">\n",
      "      NASA's Perseverance Mars Rover Gets Its Wheels and Air Brakes\n",
      "     </a>\n",
      "    </div>\n",
      "   </div>\n",
      "   <div class=\"slide\">\n",
      "    <div class=\"image_and_description_container\">\n",
      "     <a href=\"/news/8634/109-million-names-now-aboard-nasas-perseverance-mars-rover/\">\n",
      "      <div class=\"rollover_description\">\n",
      "       <div class=\"rollover_description_inner\">\n",
      "        As part of NASA's 'Send Your Name to Mars' campaign, they've been stenciled onto three microchips along with essays from NASA's 'Name the Rover' contest. Next stop: Mars.\n",
      "       </div>\n",
      "       <div class=\"overlay_arrow\">\n",
      "        <img alt=\"More\" src=\"/assets/overlay-arrow.png\"/>\n",
      "       </div>\n",
      "      </div>\n",
      "      <img alt=\"10.9 Million Names Now Aboard NASA's Perseverance Mars Rover\" class=\"img-lazy\" data-lazy=\"/system/news_items/list_view_images/8634_PIA23769-320x240.jpg\" src=\"/assets/loading_320x240.png\"/>\n",
      "     </a>\n",
      "    </div>\n",
      "    <div class=\"content_title\">\n",
      "     <a href=\"/news/8634/109-million-names-now-aboard-nasas-perseverance-mars-rover/\">\n",
      "      10.9 Million Names Now Aboard NASA's Perseverance Mars Rover\n",
      "     </a>\n",
      "    </div>\n",
      "   </div>\n",
      "   <div class=\"slide\">\n",
      "    <div class=\"image_and_description_container\">\n",
      "     <a href=\"/news/8622/virginia-middle-school-student-earns-honor-of-naming-nasas-next-mars-rover/\">\n",
      "      <div class=\"rollover_description\">\n",
      "       <div class=\"rollover_description_inner\">\n",
      "        NASA chose a seventh-grader from Virginia as winner of the agency's \"Name the Rover\" essay contest. Alexander Mather's entry for \"Perseverance\" was voted tops among 28,000 entries.\n",
      "       </div>\n",
      "       <div class=\"overlay_arrow\">\n",
      "        <img alt=\"More\" src=\"/assets/overlay-arrow.png\"/>\n",
      "       </div>\n",
      "      </div>\n",
      "      <img alt=\"Virginia Middle School Student Earns Honor of Naming NASA's Next Mars Rover\" class=\"img-lazy\" data-lazy=\"/system/news_items/list_view_images/8622_1-PIA23764-RoverNamePlateonMars-320x240.jpg\" src=\"/assets/loading_320x240.png\"/>\n",
      "     </a>\n",
      "    </div>\n",
      "    <div class=\"content_title\">\n",
      "     <a href=\"/news/8622/virginia-middle-school-student-earns-honor-of-naming-nasas-next-mars-rover/\">\n",
      "      Virginia Middle School Student Earns Honor of Naming NASA's Next Mars Rover\n",
      "     </a>\n",
      "    </div>\n",
      "   </div>\n",
      "   <div class=\"slide\">\n",
      "    <div class=\"image_and_description_container\">\n",
      "     <a href=\"/news/8606/nasa-prepares-for-moon-and-mars-with-new-addition-to-its-deep-space-network/\">\n",
      "      <div class=\"rollover_description\">\n",
      "       <div class=\"rollover_description_inner\">\n",
      "        Robotic spacecraft will be able to communicate with the dish using radio waves and lasers.\n",
      "       </div>\n",
      "       <div class=\"overlay_arrow\">\n",
      "        <img alt=\"More\" src=\"/assets/overlay-arrow.png\"/>\n",
      "       </div>\n",
      "      </div>\n",
      "      <img alt=\"NASA Prepares for Moon and Mars With New Addition to Its Deep Space Network\" class=\"img-lazy\" data-lazy=\"/system/news_items/list_view_images/8606_list_image.jpg\" src=\"/assets/loading_320x240.png\"/>\n",
      "     </a>\n",
      "    </div>\n",
      "    <div class=\"content_title\">\n",
      "     <a href=\"/news/8606/nasa-prepares-for-moon-and-mars-with-new-addition-to-its-deep-space-network/\">\n",
      "      NASA Prepares for Moon and Mars With New Addition to Its Deep Space Network\n",
      "     </a>\n",
      "    </div>\n",
      "   </div>\n",
      "   <div class=\"grid_layout\">\n",
      "    <div class=\"slick-nav_container\">\n",
      "     <div class=\"slick-nav\">\n",
      "     </div>\n",
      "    </div>\n",
      "   </div>\n",
      "  </div>\n",
      " </section>\n",
      "</div>\n",
      "\n"
     ]
    }
   ],
   "source": [
    "# Using find_all element from beautifulsoup I used 'div' and the class grid_layout to select\n",
    "# the correct elements fromt the html\n",
    "results = soup.find_all('div', class_='grid_layout')[1]\n",
    "print(results.prettify())"
   ]
  },
  {
   "cell_type": "code",
   "execution_count": 17,
   "metadata": {},
   "outputs": [
    {
     "ename": "AttributeError",
     "evalue": "'str' object has no attribute 'text'",
     "output_type": "error",
     "traceback": [
      "\u001b[0;31m---------------------------------------------------------------------------\u001b[0m",
      "\u001b[0;31mAttributeError\u001b[0m                            Traceback (most recent call last)",
      "\u001b[0;32m<ipython-input-17-7edeeff50ad0>\u001b[0m in \u001b[0;36m<module>\u001b[0;34m\u001b[0m\n\u001b[1;32m      4\u001b[0m \u001b[0;34m\u001b[0m\u001b[0m\n\u001b[1;32m      5\u001b[0m \u001b[0mdes\u001b[0m \u001b[0;34m=\u001b[0m \u001b[0mresults\u001b[0m\u001b[0;34m.\u001b[0m\u001b[0mfind\u001b[0m\u001b[0;34m(\u001b[0m\u001b[0;34m\"div\"\u001b[0m\u001b[0;34m,\u001b[0m \u001b[0mclass_\u001b[0m\u001b[0;34m=\u001b[0m\u001b[0;34m\"rollover_description_inner\"\u001b[0m\u001b[0;34m)\u001b[0m\u001b[0;34m.\u001b[0m\u001b[0mtext\u001b[0m\u001b[0;34m\u001b[0m\u001b[0;34m\u001b[0m\u001b[0m\n\u001b[0;32m----> 6\u001b[0;31m \u001b[0mparagraph\u001b[0m \u001b[0;34m=\u001b[0m \u001b[0mdes\u001b[0m\u001b[0;34m.\u001b[0m\u001b[0mtext\u001b[0m\u001b[0;34m\u001b[0m\u001b[0;34m\u001b[0m\u001b[0m\n\u001b[0m\u001b[1;32m      7\u001b[0m \u001b[0mnews_p\u001b[0m \u001b[0;34m=\u001b[0m \u001b[0;34m(\u001b[0m\u001b[0;34mf\"Paragraph: {paragraph}\"\u001b[0m\u001b[0;34m)\u001b[0m\u001b[0;34m\u001b[0m\u001b[0;34m\u001b[0m\u001b[0m\n\u001b[1;32m      8\u001b[0m \u001b[0;34m\u001b[0m\u001b[0m\n",
      "\u001b[0;31mAttributeError\u001b[0m: 'str' object has no attribute 'text'"
     ]
    }
   ],
   "source": [
    "# Within the results I used find to get the correct title and paragraph\n",
    "tit = results.find(\"div\", class_=\"content_title\")\n",
    "news_title = tit.find('a').text\n",
    "\n",
    "des = results.find(\"div\", class_=\"rollover_description_inner\")\n",
    "paragraph = des.text\n",
    "news_p = (f\"Paragraph: {paragraph}\")\n",
    "\n",
    "t = tit.find('a').text\n",
    "\n",
    "print(des)"
   ]
  },
  {
   "cell_type": "markdown",
   "metadata": {},
   "source": [
    "# JPL Mars Space Images - Featured Image\n",
    "* Visit the url for JPL Featured Space Image here.\n",
    "\n",
    "* Use splinter to navigate the site and find the image url for the current Featured Mars Image and assign the url string to a variable called featured_image_url.\n",
    "\n",
    "* Make sure to find the image url to the full size .jpg image.\n",
    "\n",
    "* Make sure to save a complete url string for this image."
   ]
  },
  {
   "cell_type": "code",
   "execution_count": 18,
   "metadata": {},
   "outputs": [],
   "source": [
    "# Loading splinter\n",
    "executable_path = {'executable_path': '/usr/local/bin/chromedriver'}\n",
    "browser = Browser('chrome', **executable_path, headless=False)"
   ]
  },
  {
   "cell_type": "code",
   "execution_count": 19,
   "metadata": {},
   "outputs": [],
   "source": [
    "# JPL Nasa URL\n",
    "jpl_url = \"https://www.jpl.nasa.gov/spaceimages/?search=&category=Mars\"\n",
    "browser.visit(jpl_url)"
   ]
  },
  {
   "cell_type": "code",
   "execution_count": 20,
   "metadata": {},
   "outputs": [],
   "source": [
    "# Using splinter browser\n",
    "html = browser.html"
   ]
  },
  {
   "cell_type": "code",
   "execution_count": 21,
   "metadata": {
    "scrolled": true
   },
   "outputs": [
    {
     "name": "stdout",
     "output_type": "stream",
     "text": [
      "<div class=\"carousel_container\">\n",
      " <div class=\"carousel_items\">\n",
      "  <article alt=\"Scoop Marks in the Sand at 'Rocknest'\" class=\"carousel_item\" style=\"background-image: url('/spaceimages/images/wallpaper/PIA16469-1920x1200.jpg');\">\n",
      "   <div class=\"default floating_text_area ms-layer\">\n",
      "    <h2 class=\"category_title\">\n",
      "    </h2>\n",
      "    <h2 class=\"brand_title\">\n",
      "     FEATURED IMAGE\n",
      "    </h2>\n",
      "    <h1 class=\"media_feature_title\">\n",
      "     Scoop Marks in the Sand at 'Rocknest'\n",
      "    </h1>\n",
      "    <div class=\"description\">\n",
      "    </div>\n",
      "    <footer>\n",
      "     <a class=\"button fancybox\" data-description=\"This is a view of the third (left) and fourth (right) trenches made by the 1.6-inch-wide (4-centimeter-wide) scoop on NASA's Mars rover Curiosity in October 2012 and shows some of the details regarding the properties of the 'Rocknest' wind drift sand.\" data-fancybox-group=\"images\" data-fancybox-href=\"/spaceimages/images/mediumsize/PIA16469_ip.jpg\" data-link=\"/spaceimages/details.php?id=PIA16469\" data-title=\"Scoop Marks in the Sand at 'Rocknest'\" id=\"full_image\">\n",
      "      FULL IMAGE\n",
      "     </a>\n",
      "    </footer>\n",
      "   </div>\n",
      "   <div class=\"gradient_container_top\">\n",
      "   </div>\n",
      "   <div class=\"gradient_container_bottom\">\n",
      "   </div>\n",
      "  </article>\n",
      " </div>\n",
      "</div>\n",
      "\n"
     ]
    }
   ],
   "source": [
    "# Using Beautiful soup to get the correct html\n",
    "soup = bs(html,'lxml')\n",
    "result = soup.find_all('div', class_='carousel_container')[0]\n",
    "print (result.prettify())"
   ]
  },
  {
   "cell_type": "code",
   "execution_count": 22,
   "metadata": {},
   "outputs": [],
   "source": [
    "# Click on Full Image button to get the featured image\n",
    "browser.find_by_id('full_image').click()"
   ]
  },
  {
   "cell_type": "code",
   "execution_count": 28,
   "metadata": {
    "scrolled": false
   },
   "outputs": [
    {
     "ename": "WebDriverException",
     "evalue": "Message: chrome not reachable\n  (Session info: chrome=81.0.4044.129)\n",
     "output_type": "error",
     "traceback": [
      "\u001b[0;31m---------------------------------------------------------------------------\u001b[0m",
      "\u001b[0;31mWebDriverException\u001b[0m                        Traceback (most recent call last)",
      "\u001b[0;32m<ipython-input-28-13433da9d02b>\u001b[0m in \u001b[0;36m<module>\u001b[0;34m\u001b[0m\n\u001b[1;32m      1\u001b[0m \u001b[0;31m# Get the correct url with the image\u001b[0m\u001b[0;34m\u001b[0m\u001b[0;34m\u001b[0m\u001b[0;34m\u001b[0m\u001b[0m\n\u001b[1;32m      2\u001b[0m \u001b[0;31m### IMPORTANT-- If the code breaks run this line again and it should work\u001b[0m\u001b[0;34m\u001b[0m\u001b[0;34m\u001b[0m\u001b[0;34m\u001b[0m\u001b[0m\n\u001b[0;32m----> 3\u001b[0;31m \u001b[0mhtml_image\u001b[0m \u001b[0;34m=\u001b[0m \u001b[0mbrowser\u001b[0m\u001b[0;34m.\u001b[0m\u001b[0mhtml\u001b[0m\u001b[0;34m\u001b[0m\u001b[0;34m\u001b[0m\u001b[0m\n\u001b[0m\u001b[1;32m      4\u001b[0m \u001b[0msoup\u001b[0m \u001b[0;34m=\u001b[0m \u001b[0mbs\u001b[0m\u001b[0;34m(\u001b[0m\u001b[0mhtml_image\u001b[0m\u001b[0;34m,\u001b[0m \u001b[0;34m\"html.parser\"\u001b[0m\u001b[0;34m)\u001b[0m\u001b[0;34m\u001b[0m\u001b[0;34m\u001b[0m\u001b[0m\n\u001b[1;32m      5\u001b[0m \u001b[0manswer\u001b[0m \u001b[0;34m=\u001b[0m \u001b[0msoup\u001b[0m\u001b[0;34m.\u001b[0m\u001b[0mfind\u001b[0m\u001b[0;34m(\u001b[0m\u001b[0;34m'img'\u001b[0m\u001b[0;34m,\u001b[0m \u001b[0mclass_\u001b[0m\u001b[0;34m=\u001b[0m\u001b[0;34m'fancybox-image'\u001b[0m\u001b[0;34m)\u001b[0m\u001b[0;31m#['src']\u001b[0m\u001b[0;34m\u001b[0m\u001b[0;34m\u001b[0m\u001b[0m\n",
      "\u001b[0;32m~/opt/anaconda3/lib/python3.7/site-packages/splinter/driver/webdriver/__init__.py\u001b[0m in \u001b[0;36mhtml\u001b[0;34m(self)\u001b[0m\n\u001b[1;32m    309\u001b[0m     \u001b[0;34m@\u001b[0m\u001b[0mproperty\u001b[0m\u001b[0;34m\u001b[0m\u001b[0;34m\u001b[0m\u001b[0m\n\u001b[1;32m    310\u001b[0m     \u001b[0;32mdef\u001b[0m \u001b[0mhtml\u001b[0m\u001b[0;34m(\u001b[0m\u001b[0mself\u001b[0m\u001b[0;34m)\u001b[0m\u001b[0;34m:\u001b[0m\u001b[0;34m\u001b[0m\u001b[0;34m\u001b[0m\u001b[0m\n\u001b[0;32m--> 311\u001b[0;31m         \u001b[0;32mreturn\u001b[0m \u001b[0mself\u001b[0m\u001b[0;34m.\u001b[0m\u001b[0mdriver\u001b[0m\u001b[0;34m.\u001b[0m\u001b[0mpage_source\u001b[0m\u001b[0;34m\u001b[0m\u001b[0;34m\u001b[0m\u001b[0m\n\u001b[0m\u001b[1;32m    312\u001b[0m \u001b[0;34m\u001b[0m\u001b[0m\n\u001b[1;32m    313\u001b[0m     \u001b[0;34m@\u001b[0m\u001b[0mproperty\u001b[0m\u001b[0;34m\u001b[0m\u001b[0;34m\u001b[0m\u001b[0m\n",
      "\u001b[0;32m~/opt/anaconda3/lib/python3.7/site-packages/selenium/webdriver/remote/webdriver.py\u001b[0m in \u001b[0;36mpage_source\u001b[0;34m(self)\u001b[0m\n\u001b[1;32m    677\u001b[0m             \u001b[0mdriver\u001b[0m\u001b[0;34m.\u001b[0m\u001b[0mpage_source\u001b[0m\u001b[0;34m\u001b[0m\u001b[0;34m\u001b[0m\u001b[0m\n\u001b[1;32m    678\u001b[0m         \"\"\"\n\u001b[0;32m--> 679\u001b[0;31m         \u001b[0;32mreturn\u001b[0m \u001b[0mself\u001b[0m\u001b[0;34m.\u001b[0m\u001b[0mexecute\u001b[0m\u001b[0;34m(\u001b[0m\u001b[0mCommand\u001b[0m\u001b[0;34m.\u001b[0m\u001b[0mGET_PAGE_SOURCE\u001b[0m\u001b[0;34m)\u001b[0m\u001b[0;34m[\u001b[0m\u001b[0;34m'value'\u001b[0m\u001b[0;34m]\u001b[0m\u001b[0;34m\u001b[0m\u001b[0;34m\u001b[0m\u001b[0m\n\u001b[0m\u001b[1;32m    680\u001b[0m \u001b[0;34m\u001b[0m\u001b[0m\n\u001b[1;32m    681\u001b[0m     \u001b[0;32mdef\u001b[0m \u001b[0mclose\u001b[0m\u001b[0;34m(\u001b[0m\u001b[0mself\u001b[0m\u001b[0;34m)\u001b[0m\u001b[0;34m:\u001b[0m\u001b[0;34m\u001b[0m\u001b[0;34m\u001b[0m\u001b[0m\n",
      "\u001b[0;32m~/opt/anaconda3/lib/python3.7/site-packages/selenium/webdriver/remote/webdriver.py\u001b[0m in \u001b[0;36mexecute\u001b[0;34m(self, driver_command, params)\u001b[0m\n\u001b[1;32m    319\u001b[0m         \u001b[0mresponse\u001b[0m \u001b[0;34m=\u001b[0m \u001b[0mself\u001b[0m\u001b[0;34m.\u001b[0m\u001b[0mcommand_executor\u001b[0m\u001b[0;34m.\u001b[0m\u001b[0mexecute\u001b[0m\u001b[0;34m(\u001b[0m\u001b[0mdriver_command\u001b[0m\u001b[0;34m,\u001b[0m \u001b[0mparams\u001b[0m\u001b[0;34m)\u001b[0m\u001b[0;34m\u001b[0m\u001b[0;34m\u001b[0m\u001b[0m\n\u001b[1;32m    320\u001b[0m         \u001b[0;32mif\u001b[0m \u001b[0mresponse\u001b[0m\u001b[0;34m:\u001b[0m\u001b[0;34m\u001b[0m\u001b[0;34m\u001b[0m\u001b[0m\n\u001b[0;32m--> 321\u001b[0;31m             \u001b[0mself\u001b[0m\u001b[0;34m.\u001b[0m\u001b[0merror_handler\u001b[0m\u001b[0;34m.\u001b[0m\u001b[0mcheck_response\u001b[0m\u001b[0;34m(\u001b[0m\u001b[0mresponse\u001b[0m\u001b[0;34m)\u001b[0m\u001b[0;34m\u001b[0m\u001b[0;34m\u001b[0m\u001b[0m\n\u001b[0m\u001b[1;32m    322\u001b[0m             response['value'] = self._unwrap_value(\n\u001b[1;32m    323\u001b[0m                 response.get('value', None))\n",
      "\u001b[0;32m~/opt/anaconda3/lib/python3.7/site-packages/selenium/webdriver/remote/errorhandler.py\u001b[0m in \u001b[0;36mcheck_response\u001b[0;34m(self, response)\u001b[0m\n\u001b[1;32m    240\u001b[0m                 \u001b[0malert_text\u001b[0m \u001b[0;34m=\u001b[0m \u001b[0mvalue\u001b[0m\u001b[0;34m[\u001b[0m\u001b[0;34m'alert'\u001b[0m\u001b[0;34m]\u001b[0m\u001b[0;34m.\u001b[0m\u001b[0mget\u001b[0m\u001b[0;34m(\u001b[0m\u001b[0;34m'text'\u001b[0m\u001b[0;34m)\u001b[0m\u001b[0;34m\u001b[0m\u001b[0;34m\u001b[0m\u001b[0m\n\u001b[1;32m    241\u001b[0m             \u001b[0;32mraise\u001b[0m \u001b[0mexception_class\u001b[0m\u001b[0;34m(\u001b[0m\u001b[0mmessage\u001b[0m\u001b[0;34m,\u001b[0m \u001b[0mscreen\u001b[0m\u001b[0;34m,\u001b[0m \u001b[0mstacktrace\u001b[0m\u001b[0;34m,\u001b[0m \u001b[0malert_text\u001b[0m\u001b[0;34m)\u001b[0m\u001b[0;34m\u001b[0m\u001b[0;34m\u001b[0m\u001b[0m\n\u001b[0;32m--> 242\u001b[0;31m         \u001b[0;32mraise\u001b[0m \u001b[0mexception_class\u001b[0m\u001b[0;34m(\u001b[0m\u001b[0mmessage\u001b[0m\u001b[0;34m,\u001b[0m \u001b[0mscreen\u001b[0m\u001b[0;34m,\u001b[0m \u001b[0mstacktrace\u001b[0m\u001b[0;34m)\u001b[0m\u001b[0;34m\u001b[0m\u001b[0;34m\u001b[0m\u001b[0m\n\u001b[0m\u001b[1;32m    243\u001b[0m \u001b[0;34m\u001b[0m\u001b[0m\n\u001b[1;32m    244\u001b[0m     \u001b[0;32mdef\u001b[0m \u001b[0m_value_or_default\u001b[0m\u001b[0;34m(\u001b[0m\u001b[0mself\u001b[0m\u001b[0;34m,\u001b[0m \u001b[0mobj\u001b[0m\u001b[0;34m,\u001b[0m \u001b[0mkey\u001b[0m\u001b[0;34m,\u001b[0m \u001b[0mdefault\u001b[0m\u001b[0;34m)\u001b[0m\u001b[0;34m:\u001b[0m\u001b[0;34m\u001b[0m\u001b[0;34m\u001b[0m\u001b[0m\n",
      "\u001b[0;31mWebDriverException\u001b[0m: Message: chrome not reachable\n  (Session info: chrome=81.0.4044.129)\n"
     ]
    }
   ],
   "source": [
    "# Get the correct url with the image\n",
    "### IMPORTANT-- If the code breaks run this line again and it should work\n",
    "html_image = browser.html\n",
    "soup = bs(html_image, \"html.parser\")\n",
    "answer = soup.find('img', class_='fancybox-image')#['src']\n",
    "a = answer['src']\n",
    "featured_image_url = (f'https://www.jpl.nasa.gov/{a}')\n",
    "print(featured_image_url)"
   ]
  },
  {
   "cell_type": "code",
   "execution_count": 24,
   "metadata": {},
   "outputs": [
    {
     "data": {
      "text/plain": [
       "'https://www.jpl.nasa.gov//spaceimages/images/mediumsize/PIA16469_ip.jpg'"
      ]
     },
     "execution_count": 24,
     "metadata": {},
     "output_type": "execute_result"
    }
   ],
   "source": [
    "# Get the URL and the image source\n",
    "featured_image_url = (f'https://www.jpl.nasa.gov/{answer}')\n",
    "featured_image_url"
   ]
  },
  {
   "cell_type": "code",
   "execution_count": null,
   "metadata": {},
   "outputs": [],
   "source": [
    "# #Beautifulsoup makes article an (element.Tag) that is works like a dictionary so you can get the correct tag,\n",
    "# # in this case I want to get the url of the picture\n",
    "# article = result.find(\"article\")['style']\n",
    "# url = article['style']\n",
    "# image_url = url.split(\"'\")\n",
    "# featured_image_url = (f'https://www.jpl.nasa.gov/{image_url[1]}')\n",
    "\n",
    "# print(featured_image_url)"
   ]
  },
  {
   "cell_type": "markdown",
   "metadata": {},
   "source": [
    "# Mars Weather\n",
    "* Visit the Mars Weather twitter account here and scrape the latest Mars weather tweet from the page. Save the tweet text for the weather report as a variable called mars_weather.\n",
    "* Note: Be sure you are not signed in to twitter, or scraping may become more difficult.\n",
    "* Note: Twitter frequently changes how information is presented on their website. If you are having difficulty getting the correct html tag data, consider researching Regular Expression Patterns and how they can be used in combination with the .find() method."
   ]
  },
  {
   "cell_type": "code",
   "execution_count": null,
   "metadata": {},
   "outputs": [],
   "source": [
    "# Loading splinter\n",
    "executable_path = {'executable_path': '/usr/local/bin/chromedriver'}\n",
    "browser = Browser('chrome', **executable_path, headless=False)"
   ]
  },
  {
   "cell_type": "code",
   "execution_count": null,
   "metadata": {},
   "outputs": [],
   "source": [
    "# NASA weather twitter URL\n",
    "twitter_url = 'https://twitter.com/marswxreport?lang=en'\n",
    "browser.visit(twitter_url)"
   ]
  },
  {
   "cell_type": "code",
   "execution_count": null,
   "metadata": {},
   "outputs": [],
   "source": [
    "# Using splinter browser\n",
    "html = browser.html"
   ]
  },
  {
   "cell_type": "code",
   "execution_count": null,
   "metadata": {},
   "outputs": [],
   "source": [
    "# Using Beautiful soup to get the correct html\n",
    "soup = bs(html,'lxml')\n",
    "mars_weather = soup.find(\"p\", class_=\"TweetTextSize TweetTextSize--normal js-tweet-text tweet-text\").text\n",
    "print(mars_weather)"
   ]
  },
  {
   "cell_type": "code",
   "execution_count": null,
   "metadata": {},
   "outputs": [],
   "source": [
    "# Retrieve page with the requests module\n",
    "response = requests.get(twitter_url)"
   ]
  },
  {
   "cell_type": "code",
   "execution_count": null,
   "metadata": {},
   "outputs": [],
   "source": [
    "# Create BeautifulSoup object; parse with 'lxml'\n",
    "soup = bs(response.text,'lxml')"
   ]
  },
  {
   "cell_type": "code",
   "execution_count": null,
   "metadata": {},
   "outputs": [],
   "source": [
    "# Using find_all element from beautifulsoup I used 'div' and the class grid_layout to select\n",
    "# the correct elements fromt the html\n",
    "results = soup.find_all('div', class_='css-1dbjc4n')\n",
    "print(results.prettify())"
   ]
  },
  {
   "cell_type": "code",
   "execution_count": null,
   "metadata": {},
   "outputs": [],
   "source": [
    "results = soup.find_all('main', class_='css-1dbjc4n r-1habvwh r-16xksha r-1wbh5a2')\n",
    "print(results.prettify())"
   ]
  },
  {
   "cell_type": "markdown",
   "metadata": {},
   "source": [
    "# Mars Facts\n",
    "* Visit the Mars Facts webpage here and use Pandas to scrape the table containing facts about the planet including Diameter, Mass, etc.\n",
    "\n",
    "* Use Pandas to convert the data to a HTML table string."
   ]
  },
  {
   "cell_type": "code",
   "execution_count": null,
   "metadata": {},
   "outputs": [],
   "source": [
    "# Get the URL\n",
    "fact_url = 'https://space-facts.com/mars/'"
   ]
  },
  {
   "cell_type": "code",
   "execution_count": null,
   "metadata": {},
   "outputs": [],
   "source": [
    "table = pd.read_html(fact_url)\n",
    "t = table[0]"
   ]
  },
  {
   "cell_type": "code",
   "execution_count": null,
   "metadata": {},
   "outputs": [],
   "source": [
    "# Organize the data an form a DataFrame\n",
    "tables = pd.DataFrame(t)\n",
    "tables"
   ]
  },
  {
   "cell_type": "code",
   "execution_count": null,
   "metadata": {},
   "outputs": [],
   "source": [
    "# Rename the columns and set the index\n",
    "tables.rename(columns={\n",
    "             0:'Parameters',\n",
    "             1:'Values'}, \n",
    "              inplace=True)\n",
    "tables.set_index('Parameters', inplace=True)\n",
    "tables"
   ]
  },
  {
   "cell_type": "code",
   "execution_count": null,
   "metadata": {},
   "outputs": [],
   "source": [
    "#Make a table for html\n",
    "mars_html = tables.to_html()\n",
    "mars_html"
   ]
  },
  {
   "cell_type": "markdown",
   "metadata": {},
   "source": [
    "# Mars Hemispheres\n",
    "* Visit the USGS Astrogeology site here to obtain high resolution images for each of Mar's hemispheres.\n",
    "\n",
    "* You will need to click each of the links to the hemispheres in order to find the image url to the full resolution image.\n",
    "\n",
    "* Save both the image url string for the full resolution hemisphere image, and the Hemisphere title containing the hemisphere name. Use a Python dictionary to store the data using the keys img_url and title.\n",
    "\n",
    "* Append the dictionary with the image url string and the hemisphere title to a list. This list will contain one dictionary for each hemisphere."
   ]
  },
  {
   "cell_type": "code",
   "execution_count": null,
   "metadata": {},
   "outputs": [],
   "source": [
    "# URL\n",
    "pic_url = \"https://astrogeology.usgs.gov/search/results?q=hemisphere+enhanced&k1=target&v1=Mars\"\n",
    "browser.visit(pic_url)"
   ]
  },
  {
   "cell_type": "code",
   "execution_count": null,
   "metadata": {},
   "outputs": [],
   "source": [
    "# Using splinter browser\n",
    "pic_html = browser.html"
   ]
  },
  {
   "cell_type": "code",
   "execution_count": null,
   "metadata": {
    "scrolled": true
   },
   "outputs": [],
   "source": [
    "# BS\n",
    "soup = bs(pic_html, \"html.parser\")\n",
    "picture = soup.find('div', class_='collapsible results')\n",
    "print(picture.prettify())"
   ]
  },
  {
   "cell_type": "code",
   "execution_count": null,
   "metadata": {},
   "outputs": [],
   "source": [
    "item = picture.find_all('div', class_='item')"
   ]
  },
  {
   "cell_type": "code",
   "execution_count": null,
   "metadata": {},
   "outputs": [],
   "source": [
    "# Get the title and the images urls\n",
    "hemisphere_image_urls = []\n",
    "\n",
    "\n",
    "for items in item:\n",
    "    title = items.find('h3').text\n",
    "    title = title.replace(' Enhanced','')\n",
    "    im_url = items.find('a')['href']\n",
    "    image_url = (f\"https://astrogeology.usgs.gov{im_url}\")\n",
    "    browser.visit(image_url)\n",
    "    html = browser.html\n",
    "    soup = bs(html, \"html.parser\")\n",
    "    downloads = soup.find(\"div\", class_=\"downloads\")\n",
    "    pic_link = downloads.find('a')['href']\n",
    "    hemisphere_image_urls.append({\"title\": title, \"img_url\": pic_link})\n",
    "\n",
    "hemisphere_image_urls"
   ]
  },
  {
   "cell_type": "code",
   "execution_count": null,
   "metadata": {},
   "outputs": [],
   "source": []
  }
 ],
 "metadata": {
  "kernelspec": {
   "display_name": "Python 3",
   "language": "python",
   "name": "python3"
  },
  "language_info": {
   "codemirror_mode": {
    "name": "ipython",
    "version": 3
   },
   "file_extension": ".py",
   "mimetype": "text/x-python",
   "name": "python",
   "nbconvert_exporter": "python",
   "pygments_lexer": "ipython3",
   "version": "3.7.6"
  },
  "toc": {
   "base_numbering": 1,
   "nav_menu": {},
   "number_sections": true,
   "sideBar": true,
   "skip_h1_title": false,
   "title_cell": "Table of Contents",
   "title_sidebar": "Contents",
   "toc_cell": false,
   "toc_position": {},
   "toc_section_display": true,
   "toc_window_display": false
  },
  "varInspector": {
   "cols": {
    "lenName": 16,
    "lenType": 16,
    "lenVar": 40
   },
   "kernels_config": {
    "python": {
     "delete_cmd_postfix": "",
     "delete_cmd_prefix": "del ",
     "library": "var_list.py",
     "varRefreshCmd": "print(var_dic_list())"
    },
    "r": {
     "delete_cmd_postfix": ") ",
     "delete_cmd_prefix": "rm(",
     "library": "var_list.r",
     "varRefreshCmd": "cat(var_dic_list()) "
    }
   },
   "types_to_exclude": [
    "module",
    "function",
    "builtin_function_or_method",
    "instance",
    "_Feature"
   ],
   "window_display": false
  }
 },
 "nbformat": 4,
 "nbformat_minor": 4
}
